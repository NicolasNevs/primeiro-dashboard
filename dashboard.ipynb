{
 "cells": [
  {
   "cell_type": "code",
   "execution_count": 1,
   "id": "43292b48",
   "metadata": {},
   "outputs": [
    {
     "data": {
      "text/html": [
       "\n",
       "        <iframe\n",
       "            width=\"100%\"\n",
       "            height=\"650\"\n",
       "            src=\"http://127.0.0.1:8050/\"\n",
       "            frameborder=\"0\"\n",
       "            allowfullscreen\n",
       "            \n",
       "        ></iframe>\n",
       "        "
      ],
      "text/plain": [
       "<IPython.lib.display.IFrame at 0x1e7dbc505d0>"
      ]
     },
     "metadata": {},
     "output_type": "display_data"
    }
   ],
   "source": [
    "from dash import Dash, html, dcc, Input, Output\n",
    "import plotly.express as px\n",
    "import pandas as pd\n",
    "\n",
    "app = Dash(__name__)\n",
    "\n",
    "# assume you have a \"long-form\" data frame\n",
    "# see https://plotly.com/python/px-arguments/ for more options\n",
    "df = pd.read_excel(\"todasasvendas.xlsx\")\n",
    "\n",
    "fig = px.bar(df, x=\"Produto\", y=\"Quantidade\",color=\"ID Loja\",barmode=\"group\")\n",
    "opcoes=list(df['ID Loja'].unique())\n",
    "opcoes.append(\"Todas as Lojas\")\n",
    "\n",
    "app.layout = html.Div(children=[\n",
    "    html.H1(children='Faturamento das lojas'),\n",
    "    html.H2(children='Gráfico com faturamento de todos os produtos separados por loja'),\n",
    "    html.Div(children='''\n",
    "        OBS: Esse gráfico mostra a quantidade de produtos vendidos, não o faturamento.\n",
    "    '''),\n",
    "    dcc.Dropdown(opcoes, value='Todas as lojas', id='lista_lojas'),\n",
    "\n",
    "\n",
    "    dcc.Graph(\n",
    "        id='grafico_quantidade_vendas',\n",
    "        figure=fig\n",
    "    )\n",
    "])\n",
    "\n",
    "@app.callback(\n",
    "    Output('grafico_quantidade_vendas', 'figure'),\n",
    "    Input('lista_lojas', 'value')\n",
    ")\n",
    "def update_output(value):\n",
    "    if value == \"Todas as Lojas\":\n",
    "       fig = px.bar(df, x=\"Produto\", y=\"Quantidade\",color=\"ID Loja\",barmode=\"group\")\n",
    "    else:\n",
    "        tabela_filtrada = df.loc[df['ID Loja']==value, :]\n",
    "        fig = px.bar(tabela_filtrada, x=\"Produto\", y=\"Quantidade\",color=\"ID Loja\",barmode=\"group\")\n",
    "    return fig\n",
    "\n",
    "\n",
    "if __name__ == '__main__':\n",
    "    app.run_server(debug=True)"
   ]
  },
  {
   "cell_type": "code",
   "execution_count": null,
   "id": "7d5babf9",
   "metadata": {},
   "outputs": [],
   "source": []
  },
  {
   "cell_type": "code",
   "execution_count": null,
   "id": "9e7c373b",
   "metadata": {},
   "outputs": [],
   "source": []
  }
 ],
 "metadata": {
  "kernelspec": {
   "display_name": "Python 3 (ipykernel)",
   "language": "python",
   "name": "python3"
  },
  "language_info": {
   "codemirror_mode": {
    "name": "ipython",
    "version": 3
   },
   "file_extension": ".py",
   "mimetype": "text/x-python",
   "name": "python",
   "nbconvert_exporter": "python",
   "pygments_lexer": "ipython3",
   "version": "3.11.5"
  }
 },
 "nbformat": 4,
 "nbformat_minor": 5
}
